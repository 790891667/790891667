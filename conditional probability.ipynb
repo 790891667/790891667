{
 "cells": [
  {
   "cell_type": "code",
   "execution_count": 4,
   "metadata": {},
   "outputs": [],
   "source": [
    "from mylib import *"
   ]
  },
  {
   "cell_type": "markdown",
   "metadata": {},
   "source": [
    "When two events are independent, their joint probability is the product of each event:\n",
    "\n",
    "$$P(E,F) = P(E) * P(F)$$\n",
    "\n",
    "Their conditional probability is the joint probability divided by the conditional (i.e., P(F)).\n",
    "\n",
    "$$P(E|F) = P(E,F) / P(F)$$\n",
    "\n",
    "And so for our two challenge scenarios, we have:\n",
    "\n",
    "Challenge 1:\n",
    "\n",
    "B = probability that both children are girls\n",
    "G = probability that the older children is a girl\n",
    "\n",
    "This can be stated as: \n",
    "\n",
    "$$P(B|G) = P(B,G) / P(G)$$\n",
    "\n",
    "Challenge 2:\n",
    "\n",
    "B = probability that both children are girls\n",
    "L = probability that at least one children is a girl\n",
    "\n",
    "This can be stated as: \n",
    "\n",
    "$$P(B|L) = P(B,L) / P(L)$$"
   ]
  },
  {
   "cell_type": "code",
   "execution_count": 20,
   "metadata": {},
   "outputs": [
    {
     "name": "stdout",
     "output_type": "stream",
     "text": [
      "P(both | older): 0.5007089325501317\n",
      "P(both | either): 0.3311897106109325\n"
     ]
    }
   ],
   "source": [
    "import random\n",
    "\n",
    "BOY=1\n",
    "GIRL=2\n",
    "\n",
    "def randomKid():\n",
    "    return random.choice([BOY, GIRL])\n",
    "\n",
    "both_girls = 0\n",
    "older_girl = 0\n",
    "either_girl = 0\n",
    "random.seed(0)\n",
    "for _ in range(10000):\n",
    "    younger = randomKid()\n",
    "    older = randomKid()\n",
    "    if older == GIRL:\n",
    "        older_girl += 1\n",
    "    if older == GIRL and younger == GIRL:\n",
    "        both_girls += 1\n",
    "    if older == GIRL or younger == GIRL:\n",
    "        either_girl += 1\n",
    "\n",
    "print(\"P(both | older):\", both_girls / older_girl)   # 0.5007089325501317\n",
    "print(\"P(both | either):\", both_girls / either_girl) # 0.3311897106109325"
   ]
  },
  {
   "cell_type": "markdown",
   "metadata": {},
   "source": [
    "### (Optional topic) Python Function Annotations since 2010\n",
    "https://www.python.org/dev/peps/pep-3107/"
   ]
  },
  {
   "cell_type": "code",
   "execution_count": 11,
   "metadata": {},
   "outputs": [
    {
     "name": "stdout",
     "output_type": "stream",
     "text": [
      "P(both | older): 0.5007089325501317\n",
      "P(both | either): 0.3311897106109325\n"
     ]
    }
   ],
   "source": [
    "import enum, random\n",
    "class Kid(enum.Enum):\n",
    "    BOY = 0\n",
    "    GIRL = 1\n",
    "\n",
    "def random_kid() -> Kid:\n",
    "    return random.choice([Kid.BOY, Kid.GIRL])\n",
    "\n",
    "both_girls = 0\n",
    "older_girl = 0\n",
    "either_girl = 0\n",
    "random.seed(0)\n",
    "for _ in range(10000):\n",
    "    younger = random_kid()\n",
    "    older = random_kid()\n",
    "    if older == Kid.GIRL:\n",
    "        older_girl += 1\n",
    "    if older == Kid.GIRL and younger == Kid.GIRL:\n",
    "        both_girls += 1\n",
    "    if older == Kid.GIRL or younger == Kid.GIRL:\n",
    "        either_girl += 1\n",
    "\n",
    "print(\"P(both | older):\", both_girls / older_girl)   # 0.5007089325501317\n",
    "print(\"P(both | either):\", both_girls / either_girl) # 0.3311897106109325"
   ]
  },
  {
   "cell_type": "markdown",
   "metadata": {},
   "source": [
    "## Bayesian theory\n",
    "\n",
    "Bayes theorem states the following:\n",
    "\n",
    "Posterior = Prior * Likelihood\n",
    "\n",
    "This can also be stated as $$P (A | B) = (P (B | A) * P(A)) / P(B),$$  \n",
    "\n",
    "where P(A|B) is the probability of A given B, also called posterior.\n",
    "\n",
    "\n",
    "<b>Prior</b>: Probability distribution representing knowledge or uncertainty of a data object prior or before observing it\n",
    "\n",
    "<b>Posterior</b>: Conditional probability distribution representing what parameters are likely after observing the data object\n",
    "\n",
    "<b>Likelihood</b>: The probability of falling under a specific category or class."
   ]
  },
  {
   "cell_type": "code",
   "execution_count": 2,
   "metadata": {},
   "outputs": [
    {
     "name": "stdout",
     "output_type": "stream",
     "text": [
      "Probability of getting cookie from cup A: 0.6\n"
     ]
    }
   ],
   "source": [
    "_probab = dict()\n",
    "\n",
    "def SetPrior(hypothis,prob):\n",
    "    _probab[hypothis]=prob\n",
    "\n",
    "def PosteriorAdjust(hypothis,prob):\n",
    "    old_prob = _probab[hypothis]\n",
    "    _probab[hypothis] = old_prob*prob\n",
    "\n",
    "def getProbability(Hypothis):\n",
    "    count = 0\n",
    "    for hypothis in _probab.values():\n",
    "        count=count+hypothis\n",
    "    for hypothis,prob in _probab.items():   ### <<<-- new to us (maybe)\n",
    "        _probab[hypothis]=_probab[hypothis]/count\n",
    "    return _probab[Hypothis]\n",
    "\n",
    "SetPrior('Bow_A',0.5)  #P(cup A)=1/2\n",
    "SetPrior('Bow_B',0.5)  #P(cup B)=1/2\n",
    "\n",
    "# Posterior \n",
    "PosteriorAdjust('Bow_A',0.75)      #P(cookie| cup A)=3/4\n",
    "PosteriorAdjust('Bow_B',0.5)       #P(cookie| cup B)=1/2\n",
    "\n",
    "prob = getProbability('Bow_A')    #P(cup A|cookie)\n",
    "\n",
    "print('Probability of getting cookie from cup A: %g' % prob)\n"
   ]
  },
  {
   "cell_type": "markdown",
   "metadata": {},
   "source": [
    "# Homework \n",
    "\n",
    "Set up an experiment for using Bayeian metohd, create two random variables of normal distribution and draw from it n times, and use the Bayes procedure to get a estimate "
   ]
  }
 ],
 "metadata": {
  "kernelspec": {
   "display_name": "Python 3",
   "language": "python",
   "name": "python3"
  },
  "language_info": {
   "codemirror_mode": {
    "name": "ipython",
    "version": 3
   },
   "file_extension": ".py",
   "mimetype": "text/x-python",
   "name": "python",
   "nbconvert_exporter": "python",
   "pygments_lexer": "ipython3",
   "version": "3.7.4"
  }
 },
 "nbformat": 4,
 "nbformat_minor": 2
}
